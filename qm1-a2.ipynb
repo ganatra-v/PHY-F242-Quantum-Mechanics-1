{
  "nbformat": 4,
  "nbformat_minor": 0,
  "metadata": {
    "colab": {
      "name": "QM1-Assignment-2.ipynb",
      "provenance": [],
      "collapsed_sections": [],
      "toc_visible": true
    },
    "kernelspec": {
      "name": "python3",
      "display_name": "Python 3"
    },
    "language_info": {
      "name": "python"
    }
  },
  "cells": [
    {
      "cell_type": "markdown",
      "source": [
        "# Assignment - 2: PHY F242 - Quantum Mechanics - I\n",
        "\n",
        "Due on: 29$^{th}$ April, 2022 - 11:59pm\n",
        "\n",
        "In this Assignment, we will numerically simulate the quantum systems covered in the lectures, namely the Infinite Square Well, and the Quantum Harmonic Oscillator.\n",
        "\n",
        "1. We will start off with our knowledge of the solutions (energy eigen-states) of the quantum systems and obtain a visualization of the time-evolution of the probability density.\n",
        "\n",
        "2. Next, we will look into a method to represent the Hamiltonian of the system in form of a square matrix (matrix representation of the Hamiltonian operator) and use the matrix representation to numerically obtain energy eigen-states and eigen-values of the system. The results of the computation can be verified with our knowledge about the solution of the systems\n",
        "\n",
        "3. Once, the eigen-states are obtained, one way to obtain the time-evolution is Part-1. In this part, we will look into an alternative method of time-evolution. For the Infinite Square Well, and the Quantum Harmonic Oscillator, this time-evolution succession must match that in Part-1. "
      ],
      "metadata": {
        "id": "3GNorOpLQLvE"
      }
    },
    {
      "cell_type": "code",
      "execution_count": null,
      "metadata": {
        "colab": {
          "base_uri": "https://localhost:8080/",
          "height": 35
        },
        "id": "bi9HOHI_QHyP",
        "outputId": "cbb2aa15-fc9a-4031-ebce-4fe4576611d5"
      },
      "outputs": [
        {
          "output_type": "execute_result",
          "data": {
            "text/plain": [
              "' \\nSubmitted by:\\n(Provide your name and BITS ID)\\nName - Vaibhav Ganatra\\nID - 2019A7PS0010G\\n'"
            ],
            "application/vnd.google.colaboratory.intrinsic+json": {
              "type": "string"
            }
          },
          "metadata": {},
          "execution_count": 1
        }
      ],
      "source": [
        "# Notebook setup\n",
        "import numpy as np\n",
        "import matplotlib.pyplot as plt\n",
        "%matplotlib inline\n",
        "from matplotlib.animation import FuncAnimation\n",
        "from scipy.constants import h\n",
        "\n",
        "\"\"\" \n",
        "Submitted by:\n",
        "(Provide your name and BITS ID)\n",
        "Name - Vaibhav Ganatra\n",
        "ID - 2019A7PS0010G\n",
        "\"\"\""
      ]
    },
    {
      "cell_type": "markdown",
      "source": [
        "### Q1. Time-Evolution of the proability density of an electron in The Infinite Square Well"
      ],
      "metadata": {
        "id": "cW_H-Eh8Z_2_"
      }
    },
    {
      "cell_type": "markdown",
      "source": [
        "In this section, we will consider an initial wave-function $ψ(x,0)$, which is an equal superposition of the first 'N' eigen-states $\\phi_n$'s of the Infinite Square Well (we can start off with any arbitrary initial wavefunction, we choose this particular superposition for simplicity and convenience).\n",
        "We will use N=2 for simplicity\n",
        "\n",
        "Using only the initial wavefunction (and omitting details about how it is prepared), we find the components $c_n$'s of $\\psi(x,0)$ along $\\phi_n$'s, i.e. we express $\\psi(x,0)$ as $Σ_{n=1}^{N} c_n \\phi_n$ \n",
        "\n",
        "Hence, $\\psi(x,t)$ is expressed as $Σ_{n=1}^{N} c_n \\phi_n * e^{-iE_nt/ħ}$\n",
        "\n",
        "where $E_n$ is the energy of the $n^{th}$ eigen-state"
      ],
      "metadata": {
        "id": "ZSjhNrGKdxud"
      }
    },
    {
      "cell_type": "code",
      "source": [
        "H_BAR = h/(2*np.pi)\n",
        "N = 2"
      ],
      "metadata": {
        "id": "Uv-uIUs9d1Ft"
      },
      "execution_count": null,
      "outputs": []
    },
    {
      "cell_type": "markdown",
      "source": [
        "Here, the $\\phi_n$'s and $E_n$'s are expressed as:\n",
        "\n",
        "$\\phi_n = \\sqrt{\\dfrac{2}{L}} sin (\\dfrac{n\\pi x}{L})$\n",
        "\n",
        "$E_n = \\dfrac{n^2 \\pi^2 ħ^2}{2mL^2}$\n",
        "\n",
        "where $L$ is the length of the well and $m$ is the mass of the particle."
      ],
      "metadata": {
        "id": "-gcxdvs1eCUX"
      }
    },
    {
      "cell_type": "code",
      "source": [
        "# L is the width of the Infinite Square Well\n",
        "L = 2\n",
        "# In numerical computations, continuous functions are discretized in their representation.\n",
        "# For example, a continuous function between 0 and L is represented as a vector with L*NUM_DIVISIONS_PER_LENGTH numbers, where the i'th number corresponds to psi(0+i/NUM_DIVISIONS_PER_LENGTH) \n",
        "NUM_DIVISIONS_PER_LENGTH = 150"
      ],
      "metadata": {
        "id": "cCmAI1FCfsan"
      },
      "execution_count": null,
      "outputs": []
    },
    {
      "cell_type": "code",
      "source": [
        "# n'th eigen-state of the infinite square well (isw)\n",
        "\n",
        "def isw_eigen_state(n, x):\n",
        "  # TODO\n",
        "  return None"
      ],
      "metadata": {
        "id": "0Z5GBD-3RBzm"
      },
      "execution_count": null,
      "outputs": []
    },
    {
      "cell_type": "code",
      "source": [
        "x = np.linspace(0,L,L*NUM_DIVISIONS_PER_LENGTH)\n",
        "\n",
        "# First 'N' Eigen-States of the Infinite Square Well\n",
        "isw_phi = np.zeros((N, L*NUM_DIVISIONS_PER_LENGTH))\n",
        "for i in range(N):\n",
        "  # calculate the i'th eigen-state of the infinite square well\n",
        "  isw_phi[i] = None\n",
        "\n",
        "# Preparing psi(x,0) as an equal superposition of the first 'N' eigen-states\n",
        "q1_psi = None"
      ],
      "metadata": {
        "id": "nPwCdZ3qf3y-"
      },
      "execution_count": null,
      "outputs": []
    },
    {
      "cell_type": "code",
      "source": [
        "# Visualizing the initial wavefunction\n",
        "plt.figure(figsize=(12,12))\n",
        "plt.xlabel(\"x\")\n",
        "plt.ylabel(\"$\\psi(x,0)$\")\n",
        "plt.xlim(0,L)\n",
        "plt.plot(x,q1_psi)\n",
        "plt.grid()"
      ],
      "metadata": {
        "id": "Q1UeyB53gjZz"
      },
      "execution_count": null,
      "outputs": []
    },
    {
      "cell_type": "code",
      "source": [
        "# Utility function to take in a wavefunction and return the probability density\n",
        "def mod_psi_square(psi):\n",
        "  # TODO\n",
        "  return None"
      ],
      "metadata": {
        "id": "l0VqZl8kdJz7"
      },
      "execution_count": null,
      "outputs": []
    },
    {
      "cell_type": "code",
      "source": [
        "# Visualization of probability density\n",
        "plt.figure(figsize=(12,12))\n",
        "plt.xlabel(\"x\")\n",
        "plt.ylabel(\"$|\\psi_0|^2$\")\n",
        "plt.xlim(0,L)\n",
        "plt.plot(x,mod_psi_square(q1_psi))\n",
        "plt.grid()"
      ],
      "metadata": {
        "id": "MjOxVX3whvmq"
      },
      "execution_count": null,
      "outputs": []
    },
    {
      "cell_type": "code",
      "source": [
        "# Checking normalization of the wavefunction\n",
        "def check_normalized(psi):\n",
        "  # Find the probability density for psi\n",
        "  prob_density = None\n",
        "  # Calculate the normalization constant\n",
        "  constant = None\n",
        "  # Check if psi is normalized\n",
        "  return constant == 1\n",
        "\n",
        "check_normalized(q1_psi)"
      ],
      "metadata": {
        "id": "4SuisC2leSMZ"
      },
      "execution_count": null,
      "outputs": []
    },
    {
      "cell_type": "code",
      "source": [
        "# Due to numerical approximations and errors, it might become necessary to renormalize the wavefunction\n",
        "def normalize(psi):\n",
        "  # Find probability density and normalization constant for psi \n",
        "  prob_density = None\n",
        "  constant = None\n",
        "  # return normalized wavefunction\n",
        "  return None"
      ],
      "metadata": {
        "id": "YrIDrWwHe5dJ"
      },
      "execution_count": null,
      "outputs": []
    },
    {
      "cell_type": "code",
      "source": [
        "# Normalize the state q1_psi\n",
        "q1_psi = None\n",
        "\n",
        "# Verify that the state is normalized\n",
        "# TODO\n",
        "\n",
        "# Sometimes due to numerical approximations, the normalization may not be exactly equal to 1, \n",
        "# but have very small errors (of the order ~1e-4). Such errors do not affect our computation much \n",
        "# and should be ignored."
      ],
      "metadata": {
        "id": "FrdAmFHAfIVV"
      },
      "execution_count": null,
      "outputs": []
    },
    {
      "cell_type": "code",
      "source": [
        "# Now we write a function to find the components of a given psi along the eigen states phi_i's\n",
        "def find_coefficients(psi, eigen_states):\n",
        "  coefficients = []\n",
        "  for state in eigen_states:\n",
        "    # find coefficient of psi along the current eigen-state and append it to the coefficients list\n",
        "    # TODO\n",
        "    pass\n",
        "  return np.array(coefficients)"
      ],
      "metadata": {
        "id": "cVs2LpJs6zCS"
      },
      "execution_count": null,
      "outputs": []
    },
    {
      "cell_type": "code",
      "source": [
        "# Use the find_coefficients functions to calculate coefficients of q1_psi along various eigen-states\n",
        "coefficients = None\n",
        "print(coefficients)"
      ],
      "metadata": {
        "colab": {
          "base_uri": "https://localhost:8080/"
        },
        "id": "hI8DUvos70X1",
        "outputId": "0a7fdb58-ea9c-45f1-e92e-d48544672481"
      },
      "execution_count": null,
      "outputs": [
        {
          "output_type": "stream",
          "name": "stdout",
          "text": [
            "[0.70474976 0.70474976]\n"
          ]
        }
      ]
    },
    {
      "cell_type": "markdown",
      "source": [
        "Now that we have the coefficients of $\\psi(x,0)$ along each of the eigen-states, and \n",
        "we are aware of the time-evolution of the eigen-states, $\\psi(x,t)$ can be expressed as:\n",
        "\n",
        "$\\psi(x,t) = Σ_{n=1}^{N}c_n*\\phi_n(x)*e^{-iE_nt/\\hbar}$"
      ],
      "metadata": {
        "id": "4ZLFinfpgFnc"
      }
    },
    {
      "cell_type": "code",
      "source": [
        "# Let us consider an electron in the infinite square well\n",
        "M = 9.1093837e-31\n",
        "\n",
        "# n'th energy eigen value E_n for Infinite Square Well\n",
        "def isw_e_n(n):\n",
        "  # TODO\n",
        "  return None"
      ],
      "metadata": {
        "id": "wkVjZxbWjXc1"
      },
      "execution_count": null,
      "outputs": []
    },
    {
      "cell_type": "code",
      "source": [
        "# Function to evaluate psi(x,t) by applying the above time-evolution expression\n",
        "def psi_x_t(x, t, coefs, eigen_states, eigen_values):\n",
        "  # Initialize psi_x_t with zeros, having same shape as x, and a data-type of 'complex128'\n",
        "  psi_x_t = None\n",
        "  # Evaluate psi_x_t using the formula stated above\n",
        "  return psi_x_t"
      ],
      "metadata": {
        "id": "NY7aJOd-6w0r"
      },
      "execution_count": null,
      "outputs": []
    },
    {
      "cell_type": "code",
      "source": [
        "# List out the first 'N' eigen-values of the infinite square well\n",
        "isw_e = None\n",
        "isw_e"
      ],
      "metadata": {
        "id": "0CJrK8nelAEn"
      },
      "execution_count": null,
      "outputs": []
    },
    {
      "cell_type": "code",
      "source": [
        "# Generate animation of the time-evolution of the probability density\n",
        "fig = plt.figure()\n",
        "fig.set_size_inches((16,12))\n",
        "axis = plt.axes(xlim=(0,L),ylim=(0,3))\n",
        "axis.set_xlabel('x')\n",
        "axis.set_ylabel('probability-density: $|\\psi|^2$')\n",
        "\n",
        "line, = axis.plot([],[],lw=3)\n",
        "\n",
        "def init():\n",
        "  line.set_data([],[])\n",
        "  return line\n",
        "\n",
        "def animate(t):\n",
        "  # To speed up the animation\n",
        "  t = t*250\n",
        "  # use the psi_x_t() function to find the psi at a time t, having state q1_psi at t=0\n",
        "  psi = None\n",
        "  # find probability density of psi\n",
        "  y = None\n",
        "  line.set_data(x,y)\n",
        "  return line\n",
        "\n",
        "anim = FuncAnimation(fig,animate,init_func=init)\n",
        "anim.save(\"q1.mp4\")"
      ],
      "metadata": {
        "id": "lz784pqc_EFs"
      },
      "execution_count": null,
      "outputs": []
    },
    {
      "cell_type": "markdown",
      "source": [
        "### Q2. Numerically finding the eigenstates and eigen-values of a particle the Infinite Square Well by representing the Hamiltonian as a Square Matrix"
      ],
      "metadata": {
        "id": "tIxF8sylKeH5"
      }
    },
    {
      "cell_type": "markdown",
      "source": [
        "In this section, we will express the Hamiltonian of a quantum system as a Square Matrix. Thus, the eigen-states and functions of this matrix (found using various the linear algebra routines in python) are the stationary states of the system. Once these are found, the time-evolution of the probability density can be simulated using Part-1. Hence, for any arbitrary wavefunction, the time-evolution can be found numerically calculated!"
      ],
      "metadata": {
        "id": "6Ip1aSz0Wl-r"
      }
    },
    {
      "cell_type": "markdown",
      "source": [
        "In this implementation, $\\psi$ is discretized between 0 to L in form of a finite vector. The $j^{th}$ entry in this vector corresponds to $\\psi(y,0)$ where y = 0 + j/ NUM_DIVISIONS"
      ],
      "metadata": {
        "id": "dYAy7tUkskN8"
      }
    },
    {
      "cell_type": "markdown",
      "source": [
        "From the Schrodinger's Equation, we know\n",
        "\n",
        "$\\hat{H}ψ = -\\dfrac{ħ^2}{2m}\\dfrac{∂^2ψ}{∂x^2} + V(x)ψ$\n",
        "\n",
        "#### Representation of V(x) as an operator:\n",
        "\n",
        "V(x) is an operator that acts on $\\psi(x)$ and the result is $\\psi(x)$ multiplied by V(x). \n",
        "Numerically, $\\psi(x)$ is represented as a vector, where the meaning of the $j^{th}$ number is as above. Therefore, V(x) must be a diagonal matrix where the j'th entry in the diagonal corresponds to V(y) where y = -L + j/ NUM_DIVISIONS\n",
        "\n",
        "For the infinite square well, the V = 0.\n",
        "However, for the harmonic oscillator we consider an electron, $m=9.1093837e-31$, $ω=1$, so $V(x)=\\dfrac{mx^2}{2}$"
      ],
      "metadata": {
        "id": "3lhC8RjkKo8s"
      }
    },
    {
      "cell_type": "code",
      "source": [
        "NUM_DIVISIONS = L*NUM_DIVISIONS_PER_LENGTH\n",
        "# Represent V(x) as a square matrix\n",
        "V = None\n",
        "\n",
        "V.shape"
      ],
      "metadata": {
        "id": "UubOS2G7AL-E"
      },
      "execution_count": null,
      "outputs": []
    },
    {
      "cell_type": "markdown",
      "source": [
        "#### Representation of $\\dfrac{∂^2\\psi}{∂x^2}$ as an operator:"
      ],
      "metadata": {
        "id": "A0kzkS80ZldG"
      }
    },
    {
      "cell_type": "markdown",
      "source": [
        "We know, $\\dfrac{∂ \\psi}{∂x}$ is expressed as the limit:\n",
        "\n",
        "$\\dfrac{∂ \\psi}{∂x} = lim_{δx → 0}\\dfrac{\\psi(x+δx) - ψ(x-δx)}{2δx}$\n",
        "\n",
        "In a similar manner, $\\dfrac{∂^2 \\psi}{∂x^2}$ is expressed as:\n",
        "\n",
        "$\\dfrac{∂^2 \\psi}{∂x^2} =lim_{δx → 0}\\dfrac{\\psi(x+δx) - 2ψ(x) + ψ(x-δx)}{δx^2}$.\n",
        "\n",
        "Hence, the matrix representation of the double-derivate should be such that it takes in a vector $\\psi$ and for element $\\psi[i]$, it computes the resultant column vector $\\dfrac{∂^2 \\psi}{∂x^2}$, where $\\dfrac{∂^2 \\psi}{∂x^2}[i] = \\dfrac{\\psi[i+1] - 2ψ[i]+ ψ[i-1]}{δx^2}$"
      ],
      "metadata": {
        "id": "4CpP6cAeKl39"
      }
    },
    {
      "cell_type": "code",
      "source": [
        "# Construction of the Double-Derivate Operator as a Matrix\n",
        "H = np.zeros((NUM_DIVISIONS,NUM_DIVISIONS))\n",
        "# TODO\n",
        "\n",
        "# Hamiltonian of the Infinite Square Well:\n",
        "H = -H_BAR**2/(2*M)*H"
      ],
      "metadata": {
        "id": "Fav4V0seZH8u"
      },
      "execution_count": null,
      "outputs": []
    },
    {
      "cell_type": "code",
      "source": [
        "# Now we have the representation of the Hamiltonian as a Square Matrix!\n",
        "# The eigen-values and eigen-functions of this matrix will be the stationary states of this system\n",
        "eigen_vals, eigen_functions = None\n",
        "\n",
        "# Note: These eigen_vals and eigen_functions need to be the same as the ones obtained in Part-1\n",
        "# For some eigen-functions there might be a difference of an overall constant, but the nature of the functions should be the same"
      ],
      "metadata": {
        "id": "cv3UQvridWcR"
      },
      "execution_count": null,
      "outputs": []
    },
    {
      "cell_type": "code",
      "source": [
        "# Normalize the eigen functions\n",
        "isw_numerical_phi = []\n",
        "for i in range(NUM_DIVISIONS):\n",
        "  temp = eigen_functions[:,i]\n",
        "  # Normalize temp\n",
        "  temp = None\n",
        "  # append temp to the list of numerically obtained eigen-states\n",
        "  # TODO"
      ],
      "metadata": {
        "id": "pKN4uJYhOhXw"
      },
      "execution_count": null,
      "outputs": []
    },
    {
      "cell_type": "code",
      "source": [
        "# Plot the numerically obtained eigen-functions and the explicit expressions of the\n",
        "# eigen-functions obtained by manually solving the Schrodinger's Equation\n",
        "plt.figure(figsize=(12,12))\n",
        "plt.xlabel(\"x\")\n",
        "plt.xlim(0,L)\n",
        "plt.plot(x,isw_eigen_state(1,x), label='Solved eigen-function')\n",
        "plt.plot(x,isw_numerical_phi[0], label='Numerical eigen-function')\n",
        "plt.legend()\n",
        "plt.grid()"
      ],
      "metadata": {
        "id": "sGXN-IfoPw1B"
      },
      "execution_count": null,
      "outputs": []
    },
    {
      "cell_type": "code",
      "source": [
        "# Aside: The calculation in Part-1 can be repeated by using the eigen-functions\n",
        "# obtained numerically from Part-2. In fact, Part-2 can be used to represent any arbitrary\n",
        "# quantum system as a matrix. The double-derivative operator remains the same across systems\n",
        "# only the V(x) changes. So, the above routine can be used to obtain eigen-values and eigen-states\n",
        "# for any arbitrary quantum system, and any arbitrary initial states and can be evolved in time!"
      ],
      "metadata": {
        "id": "q_nUYIP0UM4Z"
      },
      "execution_count": null,
      "outputs": []
    },
    {
      "cell_type": "markdown",
      "source": [
        "### Q3. Time Evolution of the System using Matrix Exponential!"
      ],
      "metadata": {
        "id": "QkbG-PZnVzL6"
      }
    },
    {
      "cell_type": "markdown",
      "source": [
        "Now that we have the Hamiltonian of the system in form of a matrix, we can look into an alternative mechanism of time-evolution which does not involve finding components along the eigen-states and applying time-evolution to these componenents. In this mechanism, we will use something called the \"matrix exponential\""
      ],
      "metadata": {
        "id": "s7Krd467WEVu"
      }
    },
    {
      "cell_type": "markdown",
      "source": [
        "As per the Schrodinger's Equation, \n",
        "\n",
        "$iħ\\dfrac{∂\\psi}{∂t} = Hψ$.\n",
        "\n",
        "Instead of converting this into an eigen-value equation, if we treat $H$ as a constant of the system, and go on to solve the equation, we have:\n",
        "\n",
        "$\\dfrac{∂ψ}{ψ} = -\\dfrac{iH}{ħ}∂t$\n",
        "\n",
        "$\\implies ln(\\dfrac{\\psi}{\\psi_0}) = -\\dfrac{iHt}{ħ}$\n",
        "\n",
        "$\\implies ψ = \\psi_0e^{-\\frac{iHt}{ħ}}$\n",
        "\n",
        "But, H here is a matrix, and, so, the operation $e^H$ is called a matrix exponential.\n",
        "\n",
        "In fact, $e^{-\\frac{iHt}{ħ}}$ is an operator (that varies with time) which when acted on $ψ(x,0)$ produces $\\psi(x,t)$"
      ],
      "metadata": {
        "id": "zZrRF4TzWZYV"
      }
    },
    {
      "cell_type": "code",
      "source": [
        "# Prepare psi as an equal superposition of the first N eigen-states as in part-1\n",
        "N = 2\n",
        "q3_psi = None"
      ],
      "metadata": {
        "id": "k-iwRp5GVyf5"
      },
      "execution_count": null,
      "outputs": []
    },
    {
      "cell_type": "code",
      "source": [
        "# Visualizing the initial wavefunction\n",
        "plt.figure(figsize=(12,12))\n",
        "plt.xlabel(\"x\")\n",
        "plt.ylabel(\"$\\psi(x,0)$\")\n",
        "plt.xlim(0,L)\n",
        "plt.plot(x,q3_psi)\n",
        "plt.grid()"
      ],
      "metadata": {
        "id": "8obdW4K_YJij"
      },
      "execution_count": null,
      "outputs": []
    },
    {
      "cell_type": "code",
      "source": [
        "q3_psi = q3_psi.reshape(NUM_DIVISIONS,1)"
      ],
      "metadata": {
        "id": "zyThnlSCgjZu"
      },
      "execution_count": null,
      "outputs": []
    },
    {
      "cell_type": "code",
      "source": [
        "fig = plt.figure()\n",
        "fig.set_size_inches((16,12))\n",
        "axis = plt.axes(xlim=(0,L),ylim=(0,3))\n",
        "\n",
        "line, = axis.plot([],[],lw=3)\n",
        "\n",
        "def init():\n",
        "  line.set_data([],[])\n",
        "  return line\n",
        "\n",
        "def animate(t):\n",
        "  t*=250\n",
        "  # Calculate the matrix exponential of the hamiltonian at time t\n",
        "  Ht = None\n",
        "  # find psi_x_t using the above matrix exponential\n",
        "  psi_x_t = None\n",
        "  # due to numerical approximations, there might be a need to renormalization\n",
        "  # normalize psi_x_t \n",
        "  psi_x_t = normalize(psi_x_t)\n",
        "  # find the probability density for psi_x_t\n",
        "  psi_x_t = None\n",
        "  line.set_data(x,psi_x_t)\n",
        "  return line\n",
        "\n",
        "anim = FuncAnimation(fig,animate,init_func=init)\n",
        "anim.save(\"animation-q3.mp4\")"
      ],
      "metadata": {
        "id": "2QhQ7gMYYV5e"
      },
      "execution_count": null,
      "outputs": []
    },
    {
      "cell_type": "code",
      "source": [
        ""
      ],
      "metadata": {
        "id": "lvbBq_AeZKhj"
      },
      "execution_count": null,
      "outputs": []
    }
  ]
}